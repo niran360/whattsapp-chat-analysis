{
 "cells": [
  {
   "cell_type": "code",
   "execution_count": 1,
   "metadata": {},
   "outputs": [],
   "source": [
    "import pandas as pd\n",
    "import numpy as np\n",
    "import re\n",
    "import dateparser\n",
    "from collections import Counter\n",
    "import matplotlib.pyplot as plt\n",
    "plt.style.use('ggplot') "
   ]
  },
  {
   "cell_type": "code",
   "execution_count": 2,
   "metadata": {},
   "outputs": [],
   "source": [
    "def read_file(file):\n",
    "    x = open(file,'r', encoding = 'utf-8') #Opens the text file into variable x but the variable cannot be explored yet\n",
    "    y = x.read() #By now it becomes a huge chunk of string that we need to separate line by line\n",
    "    content = y.splitlines() #The splitline method converts the chunk of string into a list of strings\n",
    "    return content "
   ]
  },
  {
   "cell_type": "code",
   "execution_count": 3,
   "metadata": {},
   "outputs": [
    {
     "data": {
      "text/plain": [
       "2149"
      ]
     },
     "execution_count": 3,
     "metadata": {},
     "output_type": "execute_result"
    }
   ],
   "source": [
    "chat = read_file('chat.txt')\n",
    "len(chat) "
   ]
  },
  {
   "cell_type": "code",
   "execution_count": 4,
   "metadata": {},
   "outputs": [
    {
     "data": {
      "text/plain": [
       "[\"7/23/20, 6:25 PM - +234 803 664 4810 joined using this group's invite link\",\n",
       " \"7/23/20, 8:04 PM - +234 703 586 0004 joined using this group's invite link\"]"
      ]
     },
     "execution_count": 4,
     "metadata": {},
     "output_type": "execute_result"
    }
   ],
   "source": [
    "join = [line for line in chat if  \"joined using this\" in line]\n",
    "join"
   ]
  },
  {
   "cell_type": "code",
   "execution_count": 5,
   "metadata": {},
   "outputs": [
    {
     "name": "stdout",
     "output_type": "stream",
     "text": [
      "length of chat is:\n",
      "2149\n"
     ]
    }
   ],
   "source": [
    "#Remove new lines\n",
    "chat = [line.strip() for line in chat]\n",
    "print(\"length of chat is:\")\n",
    "print(len(chat))"
   ]
  },
  {
   "cell_type": "code",
   "execution_count": 6,
   "metadata": {},
   "outputs": [],
   "source": [
    "#Clean out the join notification lines\n",
    "clean_chat = [line for line in chat if not \"joined using this\" in line]"
   ]
  },
  {
   "cell_type": "code",
   "execution_count": 7,
   "metadata": {},
   "outputs": [
    {
     "name": "stdout",
     "output_type": "stream",
     "text": [
      "length of clean_chat is:\n",
      "1706\n"
     ]
    }
   ],
   "source": [
    "clean_chat = [line for line in clean_chat if len(line) > 1]\n",
    "print(\"length of clean_chat is:\")\n",
    "print(len(clean_chat))"
   ]
  },
  {
   "cell_type": "code",
   "execution_count": 8,
   "metadata": {},
   "outputs": [
    {
     "data": {
      "text/plain": [
       "['1/20/20, 11:05 PM - You were added']"
      ]
     },
     "execution_count": 8,
     "metadata": {},
     "output_type": "execute_result"
    }
   ],
   "source": [
    "added = [line for line in clean_chat if line.endswith(\"added\")]\n",
    "added"
   ]
  },
  {
   "cell_type": "code",
   "execution_count": 9,
   "metadata": {},
   "outputs": [
    {
     "data": {
      "text/plain": [
       "[]"
      ]
     },
     "execution_count": 9,
     "metadata": {},
     "output_type": "execute_result"
    }
   ],
   "source": [
    "left = [line for line in clean_chat if line.endswith(\"left\")]\n",
    "left"
   ]
  },
  {
   "cell_type": "code",
   "execution_count": null,
   "metadata": {},
   "outputs": [],
   "source": []
  },
  {
   "cell_type": "code",
   "execution_count": 10,
   "metadata": {},
   "outputs": [
    {
     "data": {
      "text/plain": [
       "967"
      ]
     },
     "execution_count": 10,
     "metadata": {},
     "output_type": "execute_result"
    }
   ],
   "source": [
    "msgs = []\n",
    "pos = 0\n",
    "\n",
    "for line in clean_chat:\n",
    "    if re.findall(\"\\A\\d+[/]\", line):\n",
    "        msgs.append(line)\n",
    "        pos +=1\n",
    "    else:\n",
    "        take = msgs[pos-1] + \". \" + line\n",
    "        msgs.append(take)\n",
    "        msgs.pop(pos-1)\n",
    "len(msgs)"
   ]
  },
  {
   "cell_type": "code",
   "execution_count": 11,
   "metadata": {},
   "outputs": [
    {
     "data": {
      "text/plain": [
       "['1/20/20, 11:05 PM - Progress tech created group \"RCCG WOGP Family Alumni🥰\"',\n",
       " '1/20/20, 11:05 PM - You were added',\n",
       " '7/20/20, 10:52 PM - Skillful joe: Attention please:. Good evening All. I thank God for the lives of everyone here.. Please if you are a prayer warrior or prayer champion here, we need to gather at the back of Gen at delta Park to pray for Nigeria. This time specifically for Niger Delta. Because the revelations coming out from the NDDC saga is about to wake up abacha from the grave. We are on a sweet cruise. Just floating.',\n",
       " '7/20/20, 10:54 PM - Dotman: Lol',\n",
       " '7/20/20, 10:54 PM - Dotman: <Media omitted>',\n",
       " '7/20/20, 10:56 PM - Skillful joe: @447721937330 please do you have visa that you are no more using?',\n",
       " \"7/20/20, 10:58 PM - Skillful joe: @16822488823 please prepare to pick me up at airport when I land. Don't disappear. You are a child of God that year o. Just behave.\",\n",
       " '7/20/20, 11:27 PM - +44 7721 937330: Na government de issue visa oh',\n",
       " '7/20/20, 11:29 PM - Skillful joe: 😄',\n",
       " '7/20/20, 11:37 PM - Skillful joe: <Media omitted>']"
      ]
     },
     "execution_count": 11,
     "metadata": {},
     "output_type": "execute_result"
    }
   ],
   "source": [
    "msgs[0:10]"
   ]
  },
  {
   "cell_type": "code",
   "execution_count": 12,
   "metadata": {},
   "outputs": [
    {
     "name": "stdout",
     "output_type": "stream",
     "text": [
      "length of time is:\n",
      "967\n"
     ]
    }
   ],
   "source": [
    "time = [msgs[i].split(',')[1].split('-')[0] for i in range(len(msgs))]\n",
    "time = [s.strip(' ') for s in time]\n",
    "print(\"length of time is:\")\n",
    "print(len(time))"
   ]
  },
  {
   "cell_type": "code",
   "execution_count": 13,
   "metadata": {},
   "outputs": [
    {
     "data": {
      "text/plain": [
       "967"
      ]
     },
     "execution_count": 13,
     "metadata": {},
     "output_type": "execute_result"
    }
   ],
   "source": [
    "date = [msgs[i].split(',')[0] for i in range(len(msgs))]\n",
    "len(date)"
   ]
  },
  {
   "cell_type": "code",
   "execution_count": 14,
   "metadata": {},
   "outputs": [
    {
     "data": {
      "text/plain": [
       "967"
      ]
     },
     "execution_count": 14,
     "metadata": {},
     "output_type": "execute_result"
    }
   ],
   "source": [
    "name = [msgs[i].split('-')[1].split(':')[0] for i in range(len(msgs))]\n",
    "len(name)"
   ]
  },
  {
   "cell_type": "code",
   "execution_count": 15,
   "metadata": {},
   "outputs": [
    {
     "data": {
      "text/plain": [
       "967"
      ]
     },
     "execution_count": 15,
     "metadata": {},
     "output_type": "execute_result"
    }
   ],
   "source": [
    "content = []\n",
    "for i in range(len(msgs)):\n",
    "    try:\n",
    "        content.append(msgs[i].split(':')[2])\n",
    "    except IndexError:\n",
    "        content.append('Missing Text')\n",
    "len(content)"
   ]
  },
  {
   "cell_type": "code",
   "execution_count": 16,
   "metadata": {},
   "outputs": [
    {
     "data": {
      "text/html": [
       "<div>\n",
       "<style scoped>\n",
       "    .dataframe tbody tr th:only-of-type {\n",
       "        vertical-align: middle;\n",
       "    }\n",
       "\n",
       "    .dataframe tbody tr th {\n",
       "        vertical-align: top;\n",
       "    }\n",
       "\n",
       "    .dataframe thead th {\n",
       "        text-align: right;\n",
       "    }\n",
       "</style>\n",
       "<table border=\"1\" class=\"dataframe\">\n",
       "  <thead>\n",
       "    <tr style=\"text-align: right;\">\n",
       "      <th></th>\n",
       "      <th>Date</th>\n",
       "      <th>Time</th>\n",
       "      <th>Name</th>\n",
       "      <th>Content</th>\n",
       "    </tr>\n",
       "  </thead>\n",
       "  <tbody>\n",
       "    <tr>\n",
       "      <th>0</th>\n",
       "      <td>1/20/20</td>\n",
       "      <td>11:05 PM</td>\n",
       "      <td>Progress tech created group \"RCCG WOGP Family...</td>\n",
       "      <td>Missing Text</td>\n",
       "    </tr>\n",
       "    <tr>\n",
       "      <th>1</th>\n",
       "      <td>1/20/20</td>\n",
       "      <td>11:05 PM</td>\n",
       "      <td>You were added</td>\n",
       "      <td>Missing Text</td>\n",
       "    </tr>\n",
       "    <tr>\n",
       "      <th>2</th>\n",
       "      <td>7/20/20</td>\n",
       "      <td>10:52 PM</td>\n",
       "      <td>Skillful joe</td>\n",
       "      <td>Attention please</td>\n",
       "    </tr>\n",
       "    <tr>\n",
       "      <th>3</th>\n",
       "      <td>7/20/20</td>\n",
       "      <td>10:54 PM</td>\n",
       "      <td>Dotman</td>\n",
       "      <td>Lol</td>\n",
       "    </tr>\n",
       "    <tr>\n",
       "      <th>4</th>\n",
       "      <td>7/20/20</td>\n",
       "      <td>10:54 PM</td>\n",
       "      <td>Dotman</td>\n",
       "      <td>&lt;Media omitted&gt;</td>\n",
       "    </tr>\n",
       "    <tr>\n",
       "      <th>...</th>\n",
       "      <td>...</td>\n",
       "      <td>...</td>\n",
       "      <td>...</td>\n",
       "      <td>...</td>\n",
       "    </tr>\n",
       "    <tr>\n",
       "      <th>962</th>\n",
       "      <td>8/5/20</td>\n",
       "      <td>2:37 PM</td>\n",
       "      <td>+234 703 576 8876</td>\n",
       "      <td>🤣🤣🤣🤣Aggressive dude like his mentor @23470324...</td>\n",
       "    </tr>\n",
       "    <tr>\n",
       "      <th>963</th>\n",
       "      <td>8/5/20</td>\n",
       "      <td>2:38 PM</td>\n",
       "      <td>Dotman</td>\n",
       "      <td>That's true my fellow Nurse</td>\n",
       "    </tr>\n",
       "    <tr>\n",
       "      <th>964</th>\n",
       "      <td>8/5/20</td>\n",
       "      <td>2:43 PM</td>\n",
       "      <td>ayo adebayo</td>\n",
       "      <td>@2347035768876 you have joined them😕</td>\n",
       "    </tr>\n",
       "    <tr>\n",
       "      <th>965</th>\n",
       "      <td>8/5/20</td>\n",
       "      <td>3:05 PM</td>\n",
       "      <td>Michael Wog</td>\n",
       "      <td>Thank youuu</td>\n",
       "    </tr>\n",
       "    <tr>\n",
       "      <th>966</th>\n",
       "      <td>8/5/20</td>\n",
       "      <td>6:14 PM</td>\n",
       "      <td>Justice wog</td>\n",
       "      <td>Nurse ini can you fit🙆‍♀️</td>\n",
       "    </tr>\n",
       "  </tbody>\n",
       "</table>\n",
       "<p>967 rows × 4 columns</p>\n",
       "</div>"
      ],
      "text/plain": [
       "        Date      Time                                               Name  \\\n",
       "0    1/20/20  11:05 PM   Progress tech created group \"RCCG WOGP Family...   \n",
       "1    1/20/20  11:05 PM                                     You were added   \n",
       "2    7/20/20  10:52 PM                                       Skillful joe   \n",
       "3    7/20/20  10:54 PM                                             Dotman   \n",
       "4    7/20/20  10:54 PM                                             Dotman   \n",
       "..       ...       ...                                                ...   \n",
       "962   8/5/20   2:37 PM                                  +234 703 576 8876   \n",
       "963   8/5/20   2:38 PM                                             Dotman   \n",
       "964   8/5/20   2:43 PM                                        ayo adebayo   \n",
       "965   8/5/20   3:05 PM                                        Michael Wog   \n",
       "966   8/5/20   6:14 PM                                        Justice wog   \n",
       "\n",
       "                                               Content  \n",
       "0                                         Missing Text  \n",
       "1                                         Missing Text  \n",
       "2                                     Attention please  \n",
       "3                                                  Lol  \n",
       "4                                      <Media omitted>  \n",
       "..                                                 ...  \n",
       "962   🤣🤣🤣🤣Aggressive dude like his mentor @23470324...  \n",
       "963                        That's true my fellow Nurse  \n",
       "964               @2347035768876 you have joined them😕  \n",
       "965                                        Thank youuu  \n",
       "966                          Nurse ini can you fit🙆‍♀️  \n",
       "\n",
       "[967 rows x 4 columns]"
      ]
     },
     "execution_count": 16,
     "metadata": {},
     "output_type": "execute_result"
    }
   ],
   "source": [
    "df = pd.DataFrame(list(zip(date, time, name, content)), columns = ['Date', 'Time', 'Name', 'Content'])\n",
    "df"
   ]
  },
  {
   "cell_type": "code",
   "execution_count": 17,
   "metadata": {},
   "outputs": [],
   "source": [
    "df.drop(df.index[[0,1]], inplace=True)"
   ]
  },
  {
   "cell_type": "code",
   "execution_count": 18,
   "metadata": {
    "scrolled": true
   },
   "outputs": [
    {
     "data": {
      "text/html": [
       "<div>\n",
       "<style scoped>\n",
       "    .dataframe tbody tr th:only-of-type {\n",
       "        vertical-align: middle;\n",
       "    }\n",
       "\n",
       "    .dataframe tbody tr th {\n",
       "        vertical-align: top;\n",
       "    }\n",
       "\n",
       "    .dataframe thead th {\n",
       "        text-align: right;\n",
       "    }\n",
       "</style>\n",
       "<table border=\"1\" class=\"dataframe\">\n",
       "  <thead>\n",
       "    <tr style=\"text-align: right;\">\n",
       "      <th></th>\n",
       "      <th>Date</th>\n",
       "      <th>Time</th>\n",
       "      <th>Name</th>\n",
       "      <th>Content</th>\n",
       "    </tr>\n",
       "  </thead>\n",
       "  <tbody>\n",
       "    <tr>\n",
       "      <th>0</th>\n",
       "      <td>7/20/20</td>\n",
       "      <td>10:52 PM</td>\n",
       "      <td>Skillful joe</td>\n",
       "      <td>Attention please</td>\n",
       "    </tr>\n",
       "    <tr>\n",
       "      <th>1</th>\n",
       "      <td>7/20/20</td>\n",
       "      <td>10:54 PM</td>\n",
       "      <td>Dotman</td>\n",
       "      <td>Lol</td>\n",
       "    </tr>\n",
       "    <tr>\n",
       "      <th>2</th>\n",
       "      <td>7/20/20</td>\n",
       "      <td>10:54 PM</td>\n",
       "      <td>Dotman</td>\n",
       "      <td>&lt;Media omitted&gt;</td>\n",
       "    </tr>\n",
       "    <tr>\n",
       "      <th>3</th>\n",
       "      <td>7/20/20</td>\n",
       "      <td>10:56 PM</td>\n",
       "      <td>Skillful joe</td>\n",
       "      <td>@447721937330 please do you have visa that yo...</td>\n",
       "    </tr>\n",
       "    <tr>\n",
       "      <th>4</th>\n",
       "      <td>7/20/20</td>\n",
       "      <td>10:58 PM</td>\n",
       "      <td>Skillful joe</td>\n",
       "      <td>@16822488823 please prepare to pick me up at ...</td>\n",
       "    </tr>\n",
       "    <tr>\n",
       "      <th>...</th>\n",
       "      <td>...</td>\n",
       "      <td>...</td>\n",
       "      <td>...</td>\n",
       "      <td>...</td>\n",
       "    </tr>\n",
       "    <tr>\n",
       "      <th>960</th>\n",
       "      <td>8/5/20</td>\n",
       "      <td>2:37 PM</td>\n",
       "      <td>+234 703 576 8876</td>\n",
       "      <td>🤣🤣🤣🤣Aggressive dude like his mentor @23470324...</td>\n",
       "    </tr>\n",
       "    <tr>\n",
       "      <th>961</th>\n",
       "      <td>8/5/20</td>\n",
       "      <td>2:38 PM</td>\n",
       "      <td>Dotman</td>\n",
       "      <td>That's true my fellow Nurse</td>\n",
       "    </tr>\n",
       "    <tr>\n",
       "      <th>962</th>\n",
       "      <td>8/5/20</td>\n",
       "      <td>2:43 PM</td>\n",
       "      <td>ayo adebayo</td>\n",
       "      <td>@2347035768876 you have joined them😕</td>\n",
       "    </tr>\n",
       "    <tr>\n",
       "      <th>963</th>\n",
       "      <td>8/5/20</td>\n",
       "      <td>3:05 PM</td>\n",
       "      <td>Michael Wog</td>\n",
       "      <td>Thank youuu</td>\n",
       "    </tr>\n",
       "    <tr>\n",
       "      <th>964</th>\n",
       "      <td>8/5/20</td>\n",
       "      <td>6:14 PM</td>\n",
       "      <td>Justice wog</td>\n",
       "      <td>Nurse ini can you fit🙆‍♀️</td>\n",
       "    </tr>\n",
       "  </tbody>\n",
       "</table>\n",
       "<p>965 rows × 4 columns</p>\n",
       "</div>"
      ],
      "text/plain": [
       "        Date      Time                Name  \\\n",
       "0    7/20/20  10:52 PM        Skillful joe   \n",
       "1    7/20/20  10:54 PM              Dotman   \n",
       "2    7/20/20  10:54 PM              Dotman   \n",
       "3    7/20/20  10:56 PM        Skillful joe   \n",
       "4    7/20/20  10:58 PM        Skillful joe   \n",
       "..       ...       ...                 ...   \n",
       "960   8/5/20   2:37 PM   +234 703 576 8876   \n",
       "961   8/5/20   2:38 PM              Dotman   \n",
       "962   8/5/20   2:43 PM         ayo adebayo   \n",
       "963   8/5/20   3:05 PM         Michael Wog   \n",
       "964   8/5/20   6:14 PM         Justice wog   \n",
       "\n",
       "                                               Content  \n",
       "0                                     Attention please  \n",
       "1                                                  Lol  \n",
       "2                                      <Media omitted>  \n",
       "3     @447721937330 please do you have visa that yo...  \n",
       "4     @16822488823 please prepare to pick me up at ...  \n",
       "..                                                 ...  \n",
       "960   🤣🤣🤣🤣Aggressive dude like his mentor @23470324...  \n",
       "961                        That's true my fellow Nurse  \n",
       "962               @2347035768876 you have joined them😕  \n",
       "963                                        Thank youuu  \n",
       "964                          Nurse ini can you fit🙆‍♀️  \n",
       "\n",
       "[965 rows x 4 columns]"
      ]
     },
     "execution_count": 18,
     "metadata": {},
     "output_type": "execute_result"
    }
   ],
   "source": [
    "df = df[df[\"Content\"]!='Missing Text']\n",
    "df.reset_index(inplace=True, drop=True)\n",
    "df"
   ]
  },
  {
   "cell_type": "code",
   "execution_count": 19,
   "metadata": {},
   "outputs": [
    {
     "data": {
      "text/html": [
       "<div>\n",
       "<style scoped>\n",
       "    .dataframe tbody tr th:only-of-type {\n",
       "        vertical-align: middle;\n",
       "    }\n",
       "\n",
       "    .dataframe tbody tr th {\n",
       "        vertical-align: top;\n",
       "    }\n",
       "\n",
       "    .dataframe thead th {\n",
       "        text-align: right;\n",
       "    }\n",
       "</style>\n",
       "<table border=\"1\" class=\"dataframe\">\n",
       "  <thead>\n",
       "    <tr style=\"text-align: right;\">\n",
       "      <th></th>\n",
       "      <th>Date</th>\n",
       "      <th>Time</th>\n",
       "      <th>Name</th>\n",
       "      <th>Content</th>\n",
       "    </tr>\n",
       "  </thead>\n",
       "  <tbody>\n",
       "    <tr>\n",
       "      <th>0</th>\n",
       "      <td>2020-07-20</td>\n",
       "      <td>10:52 PM</td>\n",
       "      <td>Skillful joe</td>\n",
       "      <td>Attention please</td>\n",
       "    </tr>\n",
       "    <tr>\n",
       "      <th>1</th>\n",
       "      <td>2020-07-20</td>\n",
       "      <td>10:54 PM</td>\n",
       "      <td>Dotman</td>\n",
       "      <td>Lol</td>\n",
       "    </tr>\n",
       "    <tr>\n",
       "      <th>2</th>\n",
       "      <td>2020-07-20</td>\n",
       "      <td>10:54 PM</td>\n",
       "      <td>Dotman</td>\n",
       "      <td>&lt;Media omitted&gt;</td>\n",
       "    </tr>\n",
       "    <tr>\n",
       "      <th>3</th>\n",
       "      <td>2020-07-20</td>\n",
       "      <td>10:56 PM</td>\n",
       "      <td>Skillful joe</td>\n",
       "      <td>@447721937330 please do you have visa that yo...</td>\n",
       "    </tr>\n",
       "    <tr>\n",
       "      <th>4</th>\n",
       "      <td>2020-07-20</td>\n",
       "      <td>10:58 PM</td>\n",
       "      <td>Skillful joe</td>\n",
       "      <td>@16822488823 please prepare to pick me up at ...</td>\n",
       "    </tr>\n",
       "  </tbody>\n",
       "</table>\n",
       "</div>"
      ],
      "text/plain": [
       "        Date      Time           Name  \\\n",
       "0 2020-07-20  10:52 PM   Skillful joe   \n",
       "1 2020-07-20  10:54 PM         Dotman   \n",
       "2 2020-07-20  10:54 PM         Dotman   \n",
       "3 2020-07-20  10:56 PM   Skillful joe   \n",
       "4 2020-07-20  10:58 PM   Skillful joe   \n",
       "\n",
       "                                             Content  \n",
       "0                                   Attention please  \n",
       "1                                                Lol  \n",
       "2                                    <Media omitted>  \n",
       "3   @447721937330 please do you have visa that yo...  \n",
       "4   @16822488823 please prepare to pick me up at ...  "
      ]
     },
     "execution_count": 19,
     "metadata": {},
     "output_type": "execute_result"
    }
   ],
   "source": [
    "df['Date'] =  pd.to_datetime(df['Date'])\n",
    "df.head()"
   ]
  },
  {
   "cell_type": "code",
   "execution_count": 23,
   "metadata": {},
   "outputs": [
    {
     "ename": "SyntaxError",
     "evalue": "unexpected EOF while parsing (<ipython-input-23-9e96894d87e4>, line 1)",
     "output_type": "error",
     "traceback": [
      "\u001b[1;36m  File \u001b[1;32m\"<ipython-input-23-9e96894d87e4>\"\u001b[1;36m, line \u001b[1;32m1\u001b[0m\n\u001b[1;33m    df['Time']= df['Time'].apply(lambda x: str(datetime.timedelta(x))\u001b[0m\n\u001b[1;37m                                                                     ^\u001b[0m\n\u001b[1;31mSyntaxError\u001b[0m\u001b[1;31m:\u001b[0m unexpected EOF while parsing\n"
     ]
    }
   ],
   "source": [
    "df['Time']= df['Time'].apply(lambda x: str(datetime.timedelta(x))"
   ]
  },
  {
   "cell_type": "code",
   "execution_count": 21,
   "metadata": {},
   "outputs": [
    {
     "ename": "SyntaxError",
     "evalue": "unexpected EOF while parsing (<ipython-input-21-109d401b7cab>, line 1)",
     "output_type": "error",
     "traceback": [
      "\u001b[1;36m  File \u001b[1;32m\"<ipython-input-21-109d401b7cab>\"\u001b[1;36m, line \u001b[1;32m1\u001b[0m\n\u001b[1;33m    df['DateTime'] = pd.to_datetime(df['Date'] + ' ' + pd.to_timedelta(df['Time'])\u001b[0m\n\u001b[1;37m                                                                                  ^\u001b[0m\n\u001b[1;31mSyntaxError\u001b[0m\u001b[1;31m:\u001b[0m unexpected EOF while parsing\n"
     ]
    }
   ],
   "source": [
    "df['DateTime'] = pd.to_datetime(df['Date'] + ' ' + df['Time'])\n",
    "df['DateTime']"
   ]
  },
  {
   "cell_type": "code",
   "execution_count": 38,
   "metadata": {},
   "outputs": [],
   "source": [
    "df['weekday'] = df['DateTime'].apply(lambda x: x.day_name())"
   ]
  },
  {
   "cell_type": "code",
   "execution_count": 39,
   "metadata": {},
   "outputs": [],
   "source": [
    "df['Letter_Count'] = df['Content'].apply(lambda s : len(s))\n",
    "df['Word_Count'] = df['Content'].apply(lambda s : len(s.split(' ')))"
   ]
  },
  {
   "cell_type": "code",
   "execution_count": 40,
   "metadata": {},
   "outputs": [],
   "source": [
    "df['Hour'] = df['Time'].apply(lambda x : x.split(':')[0]) "
   ]
  },
  {
   "cell_type": "code",
   "execution_count": 41,
   "metadata": {},
   "outputs": [
    {
     "data": {
      "text/html": [
       "<div>\n",
       "<style scoped>\n",
       "    .dataframe tbody tr th:only-of-type {\n",
       "        vertical-align: middle;\n",
       "    }\n",
       "\n",
       "    .dataframe tbody tr th {\n",
       "        vertical-align: top;\n",
       "    }\n",
       "\n",
       "    .dataframe thead th {\n",
       "        text-align: right;\n",
       "    }\n",
       "</style>\n",
       "<table border=\"1\" class=\"dataframe\">\n",
       "  <thead>\n",
       "    <tr style=\"text-align: right;\">\n",
       "      <th></th>\n",
       "      <th>Date</th>\n",
       "      <th>Time</th>\n",
       "      <th>Name</th>\n",
       "      <th>Content</th>\n",
       "      <th>DateTime</th>\n",
       "      <th>weekday</th>\n",
       "      <th>Letter_Count</th>\n",
       "      <th>Word_Count</th>\n",
       "      <th>Hour</th>\n",
       "    </tr>\n",
       "  </thead>\n",
       "  <tbody>\n",
       "    <tr>\n",
       "      <th>0</th>\n",
       "      <td>7/20/20</td>\n",
       "      <td>10:52 PM</td>\n",
       "      <td>Skillful joe</td>\n",
       "      <td>Attention please</td>\n",
       "      <td>2020-07-20 22:52:00</td>\n",
       "      <td>Monday</td>\n",
       "      <td>17</td>\n",
       "      <td>3</td>\n",
       "      <td>10</td>\n",
       "    </tr>\n",
       "    <tr>\n",
       "      <th>1</th>\n",
       "      <td>7/20/20</td>\n",
       "      <td>10:54 PM</td>\n",
       "      <td>Dotman</td>\n",
       "      <td>Lol</td>\n",
       "      <td>2020-07-20 22:54:00</td>\n",
       "      <td>Monday</td>\n",
       "      <td>4</td>\n",
       "      <td>2</td>\n",
       "      <td>10</td>\n",
       "    </tr>\n",
       "    <tr>\n",
       "      <th>2</th>\n",
       "      <td>7/20/20</td>\n",
       "      <td>10:54 PM</td>\n",
       "      <td>Dotman</td>\n",
       "      <td>&lt;Media omitted&gt;</td>\n",
       "      <td>2020-07-20 22:54:00</td>\n",
       "      <td>Monday</td>\n",
       "      <td>16</td>\n",
       "      <td>3</td>\n",
       "      <td>10</td>\n",
       "    </tr>\n",
       "    <tr>\n",
       "      <th>3</th>\n",
       "      <td>7/20/20</td>\n",
       "      <td>10:56 PM</td>\n",
       "      <td>Skillful joe</td>\n",
       "      <td>@447721937330 please do you have visa that yo...</td>\n",
       "      <td>2020-07-20 22:56:00</td>\n",
       "      <td>Monday</td>\n",
       "      <td>66</td>\n",
       "      <td>13</td>\n",
       "      <td>10</td>\n",
       "    </tr>\n",
       "    <tr>\n",
       "      <th>4</th>\n",
       "      <td>7/20/20</td>\n",
       "      <td>10:58 PM</td>\n",
       "      <td>Skillful joe</td>\n",
       "      <td>@16822488823 please prepare to pick me up at ...</td>\n",
       "      <td>2020-07-20 22:58:00</td>\n",
       "      <td>Monday</td>\n",
       "      <td>132</td>\n",
       "      <td>26</td>\n",
       "      <td>10</td>\n",
       "    </tr>\n",
       "  </tbody>\n",
       "</table>\n",
       "</div>"
      ],
      "text/plain": [
       "      Date      Time           Name  \\\n",
       "0  7/20/20  10:52 PM   Skillful joe   \n",
       "1  7/20/20  10:54 PM         Dotman   \n",
       "2  7/20/20  10:54 PM         Dotman   \n",
       "3  7/20/20  10:56 PM   Skillful joe   \n",
       "4  7/20/20  10:58 PM   Skillful joe   \n",
       "\n",
       "                                             Content            DateTime  \\\n",
       "0                                   Attention please 2020-07-20 22:52:00   \n",
       "1                                                Lol 2020-07-20 22:54:00   \n",
       "2                                    <Media omitted> 2020-07-20 22:54:00   \n",
       "3   @447721937330 please do you have visa that yo... 2020-07-20 22:56:00   \n",
       "4   @16822488823 please prepare to pick me up at ... 2020-07-20 22:58:00   \n",
       "\n",
       "  weekday  Letter_Count  Word_Count Hour  \n",
       "0  Monday            17           3   10  \n",
       "1  Monday             4           2   10  \n",
       "2  Monday            16           3   10  \n",
       "3  Monday            66          13   10  \n",
       "4  Monday           132          26   10  "
      ]
     },
     "execution_count": 41,
     "metadata": {},
     "output_type": "execute_result"
    }
   ],
   "source": [
    "df.head()"
   ]
  },
  {
   "cell_type": "code",
   "execution_count": 42,
   "metadata": {},
   "outputs": [],
   "source": [
    "df.to_csv(\"Whattsappchat.csv\")"
   ]
  },
  {
   "cell_type": "code",
   "execution_count": null,
   "metadata": {},
   "outputs": [],
   "source": []
  }
 ],
 "metadata": {
  "kernelspec": {
   "display_name": "Python 3",
   "language": "python",
   "name": "python3"
  },
  "language_info": {
   "codemirror_mode": {
    "name": "ipython",
    "version": 3
   },
   "file_extension": ".py",
   "mimetype": "text/x-python",
   "name": "python",
   "nbconvert_exporter": "python",
   "pygments_lexer": "ipython3",
   "version": "3.7.6"
  }
 },
 "nbformat": 4,
 "nbformat_minor": 4
}
